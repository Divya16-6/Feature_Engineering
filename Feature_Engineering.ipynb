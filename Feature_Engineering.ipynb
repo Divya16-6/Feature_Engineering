{
 "cells": [
  {
   "cell_type": "markdown",
   "id": "7f511208-274b-4965-9183-9e748074e9a4",
   "metadata": {},
   "source": [
    "# Feature Engineering"
   ]
  },
  {
   "cell_type": "markdown",
   "id": "4545482f-710b-4eba-8d08-b06117cbed6a",
   "metadata": {},
   "source": [
    "#### What is Feature Engineering?\n",
    ">In Data Preprocessing, feature engineering plays a major role. Here we will check the dataset and handle the missing values in the dataset and makes the imbalanced dataset to balanced dataset, need to verify the outliers in the dataset. Encoding categorical values such as Onehot Encoding, Label Encoding and Feature Scaling takes place here."
   ]
  },
  {
   "cell_type": "markdown",
   "id": "dd64cc47-1670-472a-8aa0-4d338876860c",
   "metadata": {},
   "source": [
    "### Handling Missing Values"
   ]
  },
  {
   "cell_type": "code",
   "execution_count": 28,
   "id": "c268a2f3-0101-4948-83c2-8b629d5efe31",
   "metadata": {},
   "outputs": [],
   "source": [
    "import pandas as pd\n",
    "\n",
    "df = pd.read_csv('airlines_dataset.csv')"
   ]
  },
  {
   "cell_type": "code",
   "execution_count": 29,
   "id": "95a75bb3-7ab6-47c9-a634-d093a4b811b5",
   "metadata": {},
   "outputs": [
    {
     "name": "stdout",
     "output_type": "stream",
     "text": [
      "<class 'pandas.core.frame.DataFrame'>\n",
      "RangeIndex: 891 entries, 0 to 890\n",
      "Data columns (total 10 columns):\n",
      " #   Column               Non-Null Count  Dtype  \n",
      "---  ------               --------------  -----  \n",
      " 0   PassengerId          891 non-null    int64  \n",
      " 1   Boarding Zone        891 non-null    int64  \n",
      " 2   Name                 891 non-null    object \n",
      " 3   Gender               891 non-null    object \n",
      " 4   Age                  714 non-null    float64\n",
      " 5   No. of Luggage Bags  891 non-null    int64  \n",
      " 6   Hand Bags            891 non-null    int64  \n",
      " 7   TicketID             891 non-null    object \n",
      " 8   Fare                 891 non-null    float64\n",
      " 9   Flight Stop          889 non-null    object \n",
      "dtypes: float64(2), int64(4), object(4)\n",
      "memory usage: 69.7+ KB\n"
     ]
    }
   ],
   "source": [
    "#Getting info of the dataframe\n",
    "df.info() "
   ]
  },
  {
   "cell_type": "code",
   "execution_count": 30,
   "id": "890d9a4e-301a-40ba-bf2a-2f03c8a337ae",
   "metadata": {},
   "outputs": [
    {
     "data": {
      "text/plain": [
       "PassengerId              0\n",
       "Boarding Zone            0\n",
       "Name                     0\n",
       "Gender                   0\n",
       "Age                    177\n",
       "No. of Luggage Bags      0\n",
       "Hand Bags                0\n",
       "TicketID                 0\n",
       "Fare                     0\n",
       "Flight Stop              2\n",
       "dtype: int64"
      ]
     },
     "execution_count": 30,
     "metadata": {},
     "output_type": "execute_result"
    }
   ],
   "source": [
    "# Checking whether the dataframe contains null values\n",
    "df.isna().sum()"
   ]
  },
  {
   "cell_type": "code",
   "execution_count": null,
   "id": "c5ee9fd5-d5a4-4476-85c6-239937d9ee2b",
   "metadata": {},
   "outputs": [],
   "source": [
    "# Here we are able to see the Age has 177 missing values and Flight Stop has 2 missing values"
   ]
  },
  {
   "cell_type": "markdown",
   "id": "6f8b932c-4cc3-4f1a-bfe3-2e239005553d",
   "metadata": {},
   "source": [
    "#### What can be done in this missing values?\n",
    ">We can delete the null values columns (i.e. Age in this dataset).\n",
    "#### What happen if I delete this data?\n",
    ">May be this can affect the model performance. Sometimes it won't affect model computation, it is based on the data\n",
    "#### What needs to be done if I need this column(feature)?\n",
    ">Mean, median, mode of the column can be used to fill the missing values."
   ]
  },
  {
   "cell_type": "markdown",
   "id": "fc1cd115-aeed-451c-9dc7-10ffb862c181",
   "metadata": {},
   "source": [
    "#### Median Imputation for the dataset"
   ]
  },
  {
   "cell_type": "code",
   "execution_count": 38,
   "id": "b7caf96b-06cf-4189-a330-a28d686b3ee0",
   "metadata": {},
   "outputs": [],
   "source": [
    "# Making a copy of the dataframe\n",
    "df1 = df\n",
    "\n",
    "# Filling the missing values with median of Age\n",
    "df1['Age'] = df1['Age'].fillna(df1['Age'].median())"
   ]
  },
  {
   "cell_type": "code",
   "execution_count": 37,
   "id": "100232f6-ba2b-4c73-9c54-53cbc04601eb",
   "metadata": {},
   "outputs": [
    {
     "data": {
      "text/plain": [
       "PassengerId            0\n",
       "Boarding Zone          0\n",
       "Name                   0\n",
       "Gender                 0\n",
       "Age                    0\n",
       "No. of Luggage Bags    0\n",
       "Hand Bags              0\n",
       "TicketID               0\n",
       "Fare                   0\n",
       "Flight Stop            2\n",
       "dtype: int64"
      ]
     },
     "execution_count": 37,
     "metadata": {},
     "output_type": "execute_result"
    }
   ],
   "source": [
    "df1.isna().sum()\n",
    "#Now we are able to see the Age doesn't have any null values"
   ]
  },
  {
   "cell_type": "code",
   "execution_count": null,
   "id": "eae4bcc0-4b7d-4279-a0ea-e8fa16c213f4",
   "metadata": {},
   "outputs": [],
   "source": []
  },
  {
   "cell_type": "markdown",
   "id": "eda54e20-faae-4070-8753-ea50092f129a",
   "metadata": {},
   "source": [
    "#### Mode Imputation for the dataset"
   ]
  },
  {
   "cell_type": "code",
   "execution_count": 45,
   "id": "8de336ca-780b-44e3-908e-221e62f85ab4",
   "metadata": {},
   "outputs": [
    {
     "name": "stderr",
     "output_type": "stream",
     "text": [
      "C:\\Users\\Divya S\\AppData\\Local\\Temp\\ipykernel_14172\\449009604.py:1: FutureWarning: A value is trying to be set on a copy of a DataFrame or Series through chained assignment using an inplace method.\n",
      "The behavior will change in pandas 3.0. This inplace method will never work because the intermediate object on which we are setting values always behaves as a copy.\n",
      "\n",
      "For example, when doing 'df[col].method(value, inplace=True)', try using 'df.method({col: value}, inplace=True)' or df[col] = df[col].method(value) instead, to perform the operation inplace on the original object.\n",
      "\n",
      "\n",
      "  df1['Flight Stop'] = df1['Flight Stop'].fillna(df1['Flight Stop'].mode(), inplace=True)\n"
     ]
    }
   ],
   "source": [
    "df1['Flight Stop'] = df1['Flight Stop'].fillna(df1['Flight Stop'].mode(), inplace=True)"
   ]
  },
  {
   "cell_type": "code",
   "execution_count": 47,
   "id": "75981288-60c0-4282-9974-80ea5bb5cd77",
   "metadata": {},
   "outputs": [
    {
     "data": {
      "text/plain": [
       "PassengerId              0\n",
       "Boarding Zone            0\n",
       "Name                     0\n",
       "Gender                   0\n",
       "Age                      0\n",
       "No. of Luggage Bags      0\n",
       "Hand Bags                0\n",
       "TicketID                 0\n",
       "Fare                     0\n",
       "Flight Stop            891\n",
       "dtype: int64"
      ]
     },
     "execution_count": 47,
     "metadata": {},
     "output_type": "execute_result"
    }
   ],
   "source": [
    "df1.isna().sum()\n",
    "#Now we are able to see the Flight stop doesn't have any null values"
   ]
  },
  {
   "cell_type": "markdown",
   "id": "12c2aa5c-2325-425b-b725-9a96ce5af713",
   "metadata": {},
   "source": [
    "__Techniques to make the imbalanced dataset into the balanced dataset__\n",
    "- UnderSampling (Not Preferrable, making the data so less may affect the model performance)\n",
    "- OverSampling (Preferrrable, Adding the data again and again to make the data more stable)\n",
    "- SMOTE (Synthetic Minority OverSampling Technique) --> It will add the data based on the data distance, it does not make the data duplicate like Oversampling"
   ]
  },
  {
   "cell_type": "code",
   "execution_count": null,
   "id": "805ea981-648a-49aa-9c97-62f6c224d808",
   "metadata": {},
   "outputs": [],
   "source": []
  },
  {
   "cell_type": "markdown",
   "id": "ed8a0d01-60c8-49e6-8205-0a6acb2a4905",
   "metadata": {},
   "source": [
    "#### How to find the Outliers\n",
    ">Using the boxplot function in seaborn library we are able to find out the outliers"
   ]
  },
  {
   "cell_type": "code",
   "execution_count": 60,
   "id": "4c695fb2-19cd-46e2-bc5f-ac168eef8a55",
   "metadata": {},
   "outputs": [],
   "source": [
    "import seaborn as sns"
   ]
  },
  {
   "cell_type": "code",
   "execution_count": 62,
   "id": "085492bc-1f58-4911-989a-f27bde49c2de",
   "metadata": {},
   "outputs": [
    {
     "data": {
      "text/plain": [
       "<Axes: ylabel='Age'>"
      ]
     },
     "execution_count": 62,
     "metadata": {},
     "output_type": "execute_result"
    },
    {
     "data": {
      "image/png": "[encoded data removed]",
      "text/plain": [
       "<Figure size 640x480 with 1 Axes>"
      ]
     },
     "metadata": {},
     "output_type": "display_data"
    }
   ],
   "source": [
    "sns.boxplot(df['Age'])"
   ]
  },
  {
   "cell_type": "code",
   "execution_count": null,
   "id": "cf479b39-b05f-4e6e-b753-fad46d06a20e",
   "metadata": {},
   "outputs": [],
   "source": []
  },
  {
   "cell_type": "markdown",
   "id": "b45a600c-6ca3-470d-9a48-84376feb4e69",
   "metadata": {},
   "source": [
    "#### Data Encoding"
   ]
  },
  {
   "cell_type": "markdown",
   "id": "921def37-413d-4cf2-a8e1-fca1b6d8c144",
   "metadata": {},
   "source": [
    "##### Onehot Encoding"
   ]
  },
  {
   "cell_type": "code",
   "execution_count": 67,
   "id": "ddcec905-dfce-448f-b32d-73755c36f11b",
   "metadata": {},
   "outputs": [],
   "source": [
    "from sklearn.preprocessing import OneHotEncoder, LabelEncoder, OrdinalEncoder\n",
    "\n",
    "onehotencoder = OneHotEncoder()"
   ]
  },
  {
   "cell_type": "code",
   "execution_count": 74,
   "id": "af00f3c8-8331-4df4-96d8-2a8628a0ed94",
   "metadata": {},
   "outputs": [],
   "source": [
    "boarding_encoder = onehotencoder.fit_transform(df[['Gender']]).toarray()"
   ]
  },
  {
   "cell_type": "code",
   "execution_count": 75,
   "id": "e56b1ff3-bb83-4423-9111-6467b0fccf66",
   "metadata": {},
   "outputs": [
    {
     "name": "stdout",
     "output_type": "stream",
     "text": [
      "[[0. 1.]\n",
      " [1. 0.]\n",
      " [1. 0.]\n",
      " ...\n",
      " [1. 0.]\n",
      " [0. 1.]\n",
      " [0. 1.]]\n"
     ]
    }
   ],
   "source": [
    "print(boarding_encoder)"
   ]
  },
  {
   "cell_type": "code",
   "execution_count": 80,
   "id": "8afe2e51-88a6-415d-bcdf-3a9a79476791",
   "metadata": {},
   "outputs": [],
   "source": [
    "boarding_zone_df = pd.DataFrame(boarding_encoder, columns=onehotencoder.get_feature_names_out())"
   ]
  },
  {
   "cell_type": "code",
   "execution_count": 81,
   "id": "4447a761-de0a-4cdd-ab02-8047639fe733",
   "metadata": {},
   "outputs": [
    {
     "data": {
      "text/html": [
       "<div>\n",
       "<style scoped>\n",
       "    .dataframe tbody tr th:only-of-type {\n",
       "        vertical-align: middle;\n",
       "    }\n",
       "\n",
       "    .dataframe tbody tr th {\n",
       "        vertical-align: top;\n",
       "    }\n",
       "\n",
       "    .dataframe thead th {\n",
       "        text-align: right;\n",
       "    }\n",
       "</style>\n",
       "<table border=\"1\" class=\"dataframe\">\n",
       "  <thead>\n",
       "    <tr style=\"text-align: right;\">\n",
       "      <th></th>\n",
       "      <th>Gender_female</th>\n",
       "      <th>Gender_male</th>\n",
       "    </tr>\n",
       "  </thead>\n",
       "  <tbody>\n",
       "    <tr>\n",
       "      <th>0</th>\n",
       "      <td>0.0</td>\n",
       "      <td>1.0</td>\n",
       "    </tr>\n",
       "    <tr>\n",
       "      <th>1</th>\n",
       "      <td>1.0</td>\n",
       "      <td>0.0</td>\n",
       "    </tr>\n",
       "    <tr>\n",
       "      <th>2</th>\n",
       "      <td>1.0</td>\n",
       "      <td>0.0</td>\n",
       "    </tr>\n",
       "    <tr>\n",
       "      <th>3</th>\n",
       "      <td>1.0</td>\n",
       "      <td>0.0</td>\n",
       "    </tr>\n",
       "    <tr>\n",
       "      <th>4</th>\n",
       "      <td>0.0</td>\n",
       "      <td>1.0</td>\n",
       "    </tr>\n",
       "    <tr>\n",
       "      <th>...</th>\n",
       "      <td>...</td>\n",
       "      <td>...</td>\n",
       "    </tr>\n",
       "    <tr>\n",
       "      <th>886</th>\n",
       "      <td>0.0</td>\n",
       "      <td>1.0</td>\n",
       "    </tr>\n",
       "    <tr>\n",
       "      <th>887</th>\n",
       "      <td>1.0</td>\n",
       "      <td>0.0</td>\n",
       "    </tr>\n",
       "    <tr>\n",
       "      <th>888</th>\n",
       "      <td>1.0</td>\n",
       "      <td>0.0</td>\n",
       "    </tr>\n",
       "    <tr>\n",
       "      <th>889</th>\n",
       "      <td>0.0</td>\n",
       "      <td>1.0</td>\n",
       "    </tr>\n",
       "    <tr>\n",
       "      <th>890</th>\n",
       "      <td>0.0</td>\n",
       "      <td>1.0</td>\n",
       "    </tr>\n",
       "  </tbody>\n",
       "</table>\n",
       "<p>891 rows × 2 columns</p>\n",
       "</div>"
      ],
      "text/plain": [
       "     Gender_female  Gender_male\n",
       "0              0.0          1.0\n",
       "1              1.0          0.0\n",
       "2              1.0          0.0\n",
       "3              1.0          0.0\n",
       "4              0.0          1.0\n",
       "..             ...          ...\n",
       "886            0.0          1.0\n",
       "887            1.0          0.0\n",
       "888            1.0          0.0\n",
       "889            0.0          1.0\n",
       "890            0.0          1.0\n",
       "\n",
       "[891 rows x 2 columns]"
      ]
     },
     "execution_count": 81,
     "metadata": {},
     "output_type": "execute_result"
    }
   ],
   "source": [
    "boarding_zone_df"
   ]
  },
  {
   "cell_type": "code",
   "execution_count": null,
   "id": "fa6d7478-9696-473a-841e-22ea7f2d4137",
   "metadata": {},
   "outputs": [],
   "source": []
  },
  {
   "cell_type": "markdown",
   "id": "6ab79805-401a-4aa7-b356-581ee9913db8",
   "metadata": {},
   "source": [
    "##### Label Encoding"
   ]
  },
  {
   "cell_type": "code",
   "execution_count": 85,
   "id": "e9ff3eb2-b166-4ef4-aa73-0d338739df0f",
   "metadata": {},
   "outputs": [],
   "source": [
    "label_encoding = LabelEncoder()"
   ]
  },
  {
   "cell_type": "code",
   "execution_count": 86,
   "id": "dba3e869-daa0-4624-843e-6dfebf11e5d9",
   "metadata": {},
   "outputs": [],
   "source": [
    "label_encoder = label_encoding.fit_transform(df['Boarding Zone'])"
   ]
  },
  {
   "cell_type": "code",
   "execution_count": 89,
   "id": "7313dd0a-f262-4e48-a4ec-c6260e6481c0",
   "metadata": {},
   "outputs": [],
   "source": [
    "label_encoding_df = pd.DataFrame(label_encoder, columns=['BoardingZone'])"
   ]
  },
  {
   "cell_type": "code",
   "execution_count": 90,
   "id": "53eaf665-9048-4cba-9a85-e38caad24161",
   "metadata": {},
   "outputs": [
    {
     "data": {
      "text/html": [
       "<div>\n",
       "<style scoped>\n",
       "    .dataframe tbody tr th:only-of-type {\n",
       "        vertical-align: middle;\n",
       "    }\n",
       "\n",
       "    .dataframe tbody tr th {\n",
       "        vertical-align: top;\n",
       "    }\n",
       "\n",
       "    .dataframe thead th {\n",
       "        text-align: right;\n",
       "    }\n",
       "</style>\n",
       "<table border=\"1\" class=\"dataframe\">\n",
       "  <thead>\n",
       "    <tr style=\"text-align: right;\">\n",
       "      <th></th>\n",
       "      <th>BoardingZone</th>\n",
       "    </tr>\n",
       "  </thead>\n",
       "  <tbody>\n",
       "    <tr>\n",
       "      <th>0</th>\n",
       "      <td>2</td>\n",
       "    </tr>\n",
       "    <tr>\n",
       "      <th>1</th>\n",
       "      <td>0</td>\n",
       "    </tr>\n",
       "    <tr>\n",
       "      <th>2</th>\n",
       "      <td>2</td>\n",
       "    </tr>\n",
       "    <tr>\n",
       "      <th>3</th>\n",
       "      <td>0</td>\n",
       "    </tr>\n",
       "    <tr>\n",
       "      <th>4</th>\n",
       "      <td>2</td>\n",
       "    </tr>\n",
       "    <tr>\n",
       "      <th>...</th>\n",
       "      <td>...</td>\n",
       "    </tr>\n",
       "    <tr>\n",
       "      <th>886</th>\n",
       "      <td>1</td>\n",
       "    </tr>\n",
       "    <tr>\n",
       "      <th>887</th>\n",
       "      <td>0</td>\n",
       "    </tr>\n",
       "    <tr>\n",
       "      <th>888</th>\n",
       "      <td>2</td>\n",
       "    </tr>\n",
       "    <tr>\n",
       "      <th>889</th>\n",
       "      <td>0</td>\n",
       "    </tr>\n",
       "    <tr>\n",
       "      <th>890</th>\n",
       "      <td>2</td>\n",
       "    </tr>\n",
       "  </tbody>\n",
       "</table>\n",
       "<p>891 rows × 1 columns</p>\n",
       "</div>"
      ],
      "text/plain": [
       "     BoardingZone\n",
       "0               2\n",
       "1               0\n",
       "2               2\n",
       "3               0\n",
       "4               2\n",
       "..            ...\n",
       "886             1\n",
       "887             0\n",
       "888             2\n",
       "889             0\n",
       "890             2\n",
       "\n",
       "[891 rows x 1 columns]"
      ]
     },
     "execution_count": 90,
     "metadata": {},
     "output_type": "execute_result"
    }
   ],
   "source": [
    "label_encoding_df"
   ]
  },
  {
   "cell_type": "code",
   "execution_count": null,
   "id": "2335a6bd-af84-4419-97a0-14c6b516a8c5",
   "metadata": {},
   "outputs": [],
   "source": []
  },
  {
   "cell_type": "markdown",
   "id": "52b0ec32-b18c-448c-8e20-480a977322c4",
   "metadata": {},
   "source": [
    "##### Ordinal Encoding"
   ]
  },
  {
   "cell_type": "code",
   "execution_count": 93,
   "id": "cede228f-34ff-4f45-b1ba-5bd139f64e29",
   "metadata": {},
   "outputs": [],
   "source": [
    "ordinalencoder = OrdinalEncoder(categories=[['female', 'male']])\n",
    "\n",
    "ordinal_encoder = ordinalencoder.fit_transform(df[['Gender']])\n",
    "\n",
    "ordinal_encoder_df = pd.DataFrame(ordinal_encoder, columns=['Gender_ordinal'])"
   ]
  },
  {
   "cell_type": "code",
   "execution_count": 94,
   "id": "3a92ded3-8ac5-4378-89e1-3f2c95236fb1",
   "metadata": {},
   "outputs": [
    {
     "data": {
      "text/html": [
       "<div>\n",
       "<style scoped>\n",
       "    .dataframe tbody tr th:only-of-type {\n",
       "        vertical-align: middle;\n",
       "    }\n",
       "\n",
       "    .dataframe tbody tr th {\n",
       "        vertical-align: top;\n",
       "    }\n",
       "\n",
       "    .dataframe thead th {\n",
       "        text-align: right;\n",
       "    }\n",
       "</style>\n",
       "<table border=\"1\" class=\"dataframe\">\n",
       "  <thead>\n",
       "    <tr style=\"text-align: right;\">\n",
       "      <th></th>\n",
       "      <th>Gender_ordinal</th>\n",
       "    </tr>\n",
       "  </thead>\n",
       "  <tbody>\n",
       "    <tr>\n",
       "      <th>0</th>\n",
       "      <td>1.0</td>\n",
       "    </tr>\n",
       "    <tr>\n",
       "      <th>1</th>\n",
       "      <td>0.0</td>\n",
       "    </tr>\n",
       "    <tr>\n",
       "      <th>2</th>\n",
       "      <td>0.0</td>\n",
       "    </tr>\n",
       "    <tr>\n",
       "      <th>3</th>\n",
       "      <td>0.0</td>\n",
       "    </tr>\n",
       "    <tr>\n",
       "      <th>4</th>\n",
       "      <td>1.0</td>\n",
       "    </tr>\n",
       "    <tr>\n",
       "      <th>...</th>\n",
       "      <td>...</td>\n",
       "    </tr>\n",
       "    <tr>\n",
       "      <th>886</th>\n",
       "      <td>1.0</td>\n",
       "    </tr>\n",
       "    <tr>\n",
       "      <th>887</th>\n",
       "      <td>0.0</td>\n",
       "    </tr>\n",
       "    <tr>\n",
       "      <th>888</th>\n",
       "      <td>0.0</td>\n",
       "    </tr>\n",
       "    <tr>\n",
       "      <th>889</th>\n",
       "      <td>1.0</td>\n",
       "    </tr>\n",
       "    <tr>\n",
       "      <th>890</th>\n",
       "      <td>1.0</td>\n",
       "    </tr>\n",
       "  </tbody>\n",
       "</table>\n",
       "<p>891 rows × 1 columns</p>\n",
       "</div>"
      ],
      "text/plain": [
       "     Gender_ordinal\n",
       "0               1.0\n",
       "1               0.0\n",
       "2               0.0\n",
       "3               0.0\n",
       "4               1.0\n",
       "..              ...\n",
       "886             1.0\n",
       "887             0.0\n",
       "888             0.0\n",
       "889             1.0\n",
       "890             1.0\n",
       "\n",
       "[891 rows x 1 columns]"
      ]
     },
     "execution_count": 94,
     "metadata": {},
     "output_type": "execute_result"
    }
   ],
   "source": [
    "ordinal_encoder_df"
   ]
  },
  {
   "cell_type": "code",
   "execution_count": null,
   "id": "6f2c9138-7dc9-46f5-b802-e54a907d5779",
   "metadata": {},
   "outputs": [],
   "source": []
  },
  {
   "cell_type": "markdown",
   "id": "9f5f6c0b-0430-41bb-9c04-50db73ad012e",
   "metadata": {},
   "source": [
    "#### Feature Scaling"
   ]
  },
  {
   "cell_type": "code",
   "execution_count": 95,
   "id": "fe928565-135e-4049-97b7-6257d8c5dfa6",
   "metadata": {},
   "outputs": [],
   "source": [
    "from sklearn.preprocessing import StandardScaler\n",
    "\n",
    "scaler = StandardScaler()"
   ]
  },
  {
   "cell_type": "code",
   "execution_count": 102,
   "id": "910fab0c-cd7f-4a31-a457-97bd6bd9f169",
   "metadata": {},
   "outputs": [
    {
     "data": {
      "text/html": [
       "<div>\n",
       "<style scoped>\n",
       "    .dataframe tbody tr th:only-of-type {\n",
       "        vertical-align: middle;\n",
       "    }\n",
       "\n",
       "    .dataframe tbody tr th {\n",
       "        vertical-align: top;\n",
       "    }\n",
       "\n",
       "    .dataframe thead th {\n",
       "        text-align: right;\n",
       "    }\n",
       "</style>\n",
       "<table border=\"1\" class=\"dataframe\">\n",
       "  <thead>\n",
       "    <tr style=\"text-align: right;\">\n",
       "      <th></th>\n",
       "      <th>0</th>\n",
       "    </tr>\n",
       "  </thead>\n",
       "  <tbody>\n",
       "    <tr>\n",
       "      <th>0</th>\n",
       "      <td>0.827377</td>\n",
       "    </tr>\n",
       "    <tr>\n",
       "      <th>1</th>\n",
       "      <td>-1.566107</td>\n",
       "    </tr>\n",
       "    <tr>\n",
       "      <th>2</th>\n",
       "      <td>0.827377</td>\n",
       "    </tr>\n",
       "    <tr>\n",
       "      <th>3</th>\n",
       "      <td>-1.566107</td>\n",
       "    </tr>\n",
       "    <tr>\n",
       "      <th>4</th>\n",
       "      <td>0.827377</td>\n",
       "    </tr>\n",
       "    <tr>\n",
       "      <th>...</th>\n",
       "      <td>...</td>\n",
       "    </tr>\n",
       "    <tr>\n",
       "      <th>886</th>\n",
       "      <td>-0.369365</td>\n",
       "    </tr>\n",
       "    <tr>\n",
       "      <th>887</th>\n",
       "      <td>-1.566107</td>\n",
       "    </tr>\n",
       "    <tr>\n",
       "      <th>888</th>\n",
       "      <td>0.827377</td>\n",
       "    </tr>\n",
       "    <tr>\n",
       "      <th>889</th>\n",
       "      <td>-1.566107</td>\n",
       "    </tr>\n",
       "    <tr>\n",
       "      <th>890</th>\n",
       "      <td>0.827377</td>\n",
       "    </tr>\n",
       "  </tbody>\n",
       "</table>\n",
       "<p>891 rows × 1 columns</p>\n",
       "</div>"
      ],
      "text/plain": [
       "            0\n",
       "0    0.827377\n",
       "1   -1.566107\n",
       "2    0.827377\n",
       "3   -1.566107\n",
       "4    0.827377\n",
       "..        ...\n",
       "886 -0.369365\n",
       "887 -1.566107\n",
       "888  0.827377\n",
       "889 -1.566107\n",
       "890  0.827377\n",
       "\n",
       "[891 rows x 1 columns]"
      ]
     },
     "execution_count": 102,
     "metadata": {},
     "output_type": "execute_result"
    }
   ],
   "source": [
    "df_standardScaler = scaler.fit_transform(df[['Boarding Zone']])\n",
    "pd.DataFrame(df_standardScaler)"
   ]
  },
  {
   "cell_type": "code",
   "execution_count": null,
   "id": "8d7f7589-d5a2-42f1-983a-b92e358998de",
   "metadata": {},
   "outputs": [],
   "source": []
  }
 ],
 "metadata": {
  "kernelspec": {
   "display_name": "Python 3 (ipykernel)",
   "language": "python",
   "name": "python3"
  },
  "language_info": {
   "codemirror_mode": {
    "name": "ipython",
    "version": 3
   },
   "file_extension": ".py",
   "mimetype": "text/x-python",
   "name": "python",
   "nbconvert_exporter": "python",
   "pygments_lexer": "ipython3",
   "version": "3.12.7"
  }
 },
 "nbformat": 4,
 "nbformat_minor": 5
}
